{
 "cells": [
  {
   "cell_type": "code",
   "execution_count": 30,
   "metadata": {},
   "outputs": [],
   "source": [
    "import pandas as pd\n",
    "import matplotlib.pyplot as plt\n",
    "import numpy as np"
   ]
  },
  {
   "cell_type": "code",
   "execution_count": 101,
   "metadata": {},
   "outputs": [],
   "source": [
    "time_df = pd.read_csv(\"hadoop_reports/hadoop_timeline_03-29-2021.txt\", delim_whitespace=True)\n",
    "time_df_years = time_df[~time_df.year.str.contains(\":\")].year.astype(int)\n",
    "dead_users = time_df[~time_df.year.str.contains(\":\")][time_df_years < 2019].user.values"
   ]
  },
  {
   "cell_type": "code",
   "execution_count": 102,
   "metadata": {},
   "outputs": [
    {
     "data": {
      "text/plain": [
       "array(['alex', 'alja', 'apatters', 'areinsvo', 'balaji', 'bauerdic',\n",
       "       'bkansal', 'bmarsh', 'bockjoo', 'branson', 'burkett', 'burt',\n",
       "       'capalmer', 'cawest', 'ccollard', 'cerati', 'cfangmei', 'cms2',\n",
       "       'cms-a', 'cms-b', 'cms-c', 'cms-d', 'cms-e', 'cms-f', 'cwelke',\n",
       "       'dalfonso', 'danphan', 'deldred', 'dklein', 'dlevans', 'dmytro',\n",
       "       'dsklein', 'duanders', 'echabert', 'ekennedy', 'emanuele',\n",
       "       'esmaeel', 'fahim', 'fgior8', 'fkw', 'gailgh', 'gdyckes',\n",
       "       'georgia', 'gpetrucc', 'grmercad', 'gutsche', 'hatake', 'heilman',\n",
       "       'hernan', 'hlliu', 'holzner', 'iandyckes', 'jbradmil', 'jdost',\n",
       "       'jgran', 'jgwood', 'jletts', 'jmuelmen', 'jribnik', 'jschrott',\n",
       "       'kburt', 'kelley', 'liamb315', 'linacre', 'lost+found', 'lshchuts',\n",
       "       'lveldere', 'magania', 'magini', 'mderdzin', 'mderdzinski',\n",
       "       'mjansova', 'mmasciov', 'mnorman', 'mpieri', 'nguyenh', 'noachr',\n",
       "       'olivito', 'owen', 'paktinat', 'pbgeff', 'pjandir', 'rbhandar',\n",
       "       'rclsa', 'rcoelhol', 'richman', 'sani', 'sbologne', 'scasasso',\n",
       "       'schenara', 'scodella', 'sghiasis', 'spadhi', 'sseyedi', 'sturdy',\n",
       "       'test', 'uscms051', 'vdutta', 'vlimant', 'wandrews', 'warren',\n",
       "       'wasser', 'wilken', 'woodson', 'wreece', 'wto', 'wverbeke'],\n",
       "      dtype=object)"
      ]
     },
     "execution_count": 102,
     "metadata": {},
     "output_type": "execute_result"
    }
   ],
   "source": [
    "dead_users"
   ]
  },
  {
   "cell_type": "code",
   "execution_count": 115,
   "metadata": {},
   "outputs": [
    {
     "data": {
      "text/plain": [
       "107"
      ]
     },
     "execution_count": 115,
     "metadata": {},
     "output_type": "execute_result"
    }
   ],
   "source": [
    "len(dead_users)"
   ]
  },
  {
   "cell_type": "code",
   "execution_count": 103,
   "metadata": {},
   "outputs": [],
   "source": [
    "hadoop_df = pd.read_csv(\"hadoop_reports/hadoop_usage_03-29-2021.txt\", delim_whitespace=True)\n",
    "hadoop_df[\"user\"] = hadoop_df.path.str.split(\"/\").str.get(-1)\n",
    "# Sort by usage\n",
    "hadoop_df.sort_values(\"after_rep\", ascending=False, inplace=True, ignore_index=True)"
   ]
  },
  {
   "cell_type": "code",
   "execution_count": 110,
   "metadata": {},
   "outputs": [
    {
     "data": {
      "text/plain": [
       "61.722380592748"
      ]
     },
     "execution_count": 110,
     "metadata": {},
     "output_type": "execute_result"
    }
   ],
   "source": [
    "np.sum(hadoop_df[np.isin(hadoop_df.user, dead_users)].after_rep)/(10**12)"
   ]
  },
  {
   "cell_type": "code",
   "execution_count": 114,
   "metadata": {},
   "outputs": [
    {
     "data": {
      "text/plain": [
       "182"
      ]
     },
     "execution_count": 114,
     "metadata": {},
     "output_type": "execute_result"
    }
   ],
   "source": [
    "len(hadoop_df.user)"
   ]
  },
  {
   "cell_type": "code",
   "execution_count": 106,
   "metadata": {},
   "outputs": [],
   "source": [
    "usages = hadoop_df.sort_values(\"after_rep\", ascending=False).after_rep.values"
   ]
  },
  {
   "cell_type": "code",
   "execution_count": 111,
   "metadata": {},
   "outputs": [
    {
     "data": {
      "text/plain": [
       "511.773425639366"
      ]
     },
     "execution_count": 111,
     "metadata": {},
     "output_type": "execute_result"
    }
   ],
   "source": [
    "np.sum(hadoop_df.after_rep)/(10**12)"
   ]
  },
  {
   "cell_type": "code",
   "execution_count": 113,
   "metadata": {},
   "outputs": [
    {
     "data": {
      "text/plain": [
       "0.4424632926552881"
      ]
     },
     "execution_count": 113,
     "metadata": {},
     "output_type": "execute_result"
    }
   ],
   "source": [
    "np.sum(hadoop_df.after_rep[:2])/np.sum(hadoop_df[~np.isin(hadoop_df.user, dead_users)].after_rep)"
   ]
  },
  {
   "cell_type": "code",
   "execution_count": 116,
   "metadata": {},
   "outputs": [
    {
     "data": {
      "image/png": "[encoded data removed]",
      "text/plain": [
       "<Figure size 1152x648 with 1 Axes>"
      ]
     },
     "metadata": {
      "needs_background": "light"
     },
     "output_type": "display_data"
    }
   ],
   "source": [
    "fig, axes = plt.subplots(figsize=(16, 9))\n",
    "axes.scatter(\n",
    "    hadoop_df.index,\n",
    "    hadoop_df.after_rep/(10**12)\n",
    ");\n",
    "axes.scatter(\n",
    "    hadoop_df[np.isin(hadoop_df.user, dead_users)].index,\n",
    "    hadoop_df[np.isin(hadoop_df.user, dead_users)].after_rep/(10**12),\n",
    "    marker=\"x\",\n",
    "    label=\"dead\"\n",
    ")\n",
    "axes.set_ylabel(\"Usage after replication [TB]\", size=20);\n",
    "axes.set_xlabel(\"User\", size=20);\n",
    "axes.legend(fontsize=16);"
   ]
  },
  {
   "cell_type": "code",
   "execution_count": 126,
   "metadata": {},
   "outputs": [],
   "source": [
    "top_dead = hadoop_df[np.isin(hadoop_df.user, dead_users)][:20].copy()"
   ]
  },
  {
   "cell_type": "code",
   "execution_count": 127,
   "metadata": {},
   "outputs": [],
   "source": [
    "top_dead[\"after_rep_TB\"] = top_dead.after_rep/10**12"
   ]
  },
  {
   "cell_type": "code",
   "execution_count": 128,
   "metadata": {},
   "outputs": [
    {
     "data": {
      "text/html": [
       "<div>\n",
       "<style scoped>\n",
       "    .dataframe tbody tr th:only-of-type {\n",
       "        vertical-align: middle;\n",
       "    }\n",
       "\n",
       "    .dataframe tbody tr th {\n",
       "        vertical-align: top;\n",
       "    }\n",
       "\n",
       "    .dataframe thead th {\n",
       "        text-align: right;\n",
       "    }\n",
       "</style>\n",
       "<table border=\"1\" class=\"dataframe\">\n",
       "  <thead>\n",
       "    <tr style=\"text-align: right;\">\n",
       "      <th></th>\n",
       "      <th>before_rep</th>\n",
       "      <th>after_rep</th>\n",
       "      <th>path</th>\n",
       "      <th>user</th>\n",
       "      <th>after_rep_TB</th>\n",
       "    </tr>\n",
       "  </thead>\n",
       "  <tbody>\n",
       "    <tr>\n",
       "      <th>9</th>\n",
       "      <td>7374967263366</td>\n",
       "      <td>14749934526732</td>\n",
       "      <td>/cms/store/user/branson</td>\n",
       "      <td>branson</td>\n",
       "      <td>14.749935</td>\n",
       "    </tr>\n",
       "    <tr>\n",
       "      <th>15</th>\n",
       "      <td>3140350104195</td>\n",
       "      <td>6280700208390</td>\n",
       "      <td>/cms/store/user/rbhandar</td>\n",
       "      <td>rbhandar</td>\n",
       "      <td>6.280700</td>\n",
       "    </tr>\n",
       "    <tr>\n",
       "      <th>18</th>\n",
       "      <td>2790180723796</td>\n",
       "      <td>5580361447592</td>\n",
       "      <td>/cms/store/user/esmaeel</td>\n",
       "      <td>esmaeel</td>\n",
       "      <td>5.580361</td>\n",
       "    </tr>\n",
       "    <tr>\n",
       "      <th>23</th>\n",
       "      <td>1611455550280</td>\n",
       "      <td>3222911100560</td>\n",
       "      <td>/cms/store/user/mmasciov</td>\n",
       "      <td>mmasciov</td>\n",
       "      <td>3.222911</td>\n",
       "    </tr>\n",
       "    <tr>\n",
       "      <th>26</th>\n",
       "      <td>1281206759418</td>\n",
       "      <td>2562413518836</td>\n",
       "      <td>/cms/store/user/wverbeke</td>\n",
       "      <td>wverbeke</td>\n",
       "      <td>2.562414</td>\n",
       "    </tr>\n",
       "    <tr>\n",
       "      <th>27</th>\n",
       "      <td>1232918044333</td>\n",
       "      <td>2465836088666</td>\n",
       "      <td>/cms/store/user/gpetrucc</td>\n",
       "      <td>gpetrucc</td>\n",
       "      <td>2.465836</td>\n",
       "    </tr>\n",
       "    <tr>\n",
       "      <th>28</th>\n",
       "      <td>1161434791016</td>\n",
       "      <td>2322869582032</td>\n",
       "      <td>/cms/store/user/vdutta</td>\n",
       "      <td>vdutta</td>\n",
       "      <td>2.322870</td>\n",
       "    </tr>\n",
       "    <tr>\n",
       "      <th>30</th>\n",
       "      <td>1089108574536</td>\n",
       "      <td>2178217149072</td>\n",
       "      <td>/cms/store/user/dmytro</td>\n",
       "      <td>dmytro</td>\n",
       "      <td>2.178217</td>\n",
       "    </tr>\n",
       "    <tr>\n",
       "      <th>31</th>\n",
       "      <td>963279472359</td>\n",
       "      <td>1926558944718</td>\n",
       "      <td>/cms/store/user/dsklein</td>\n",
       "      <td>dsklein</td>\n",
       "      <td>1.926559</td>\n",
       "    </tr>\n",
       "    <tr>\n",
       "      <th>32</th>\n",
       "      <td>950064861200</td>\n",
       "      <td>1900129722400</td>\n",
       "      <td>/cms/store/user/mderdzin</td>\n",
       "      <td>mderdzin</td>\n",
       "      <td>1.900130</td>\n",
       "    </tr>\n",
       "    <tr>\n",
       "      <th>33</th>\n",
       "      <td>902727625962</td>\n",
       "      <td>1805455251924</td>\n",
       "      <td>/cms/store/user/mnorman</td>\n",
       "      <td>mnorman</td>\n",
       "      <td>1.805455</td>\n",
       "    </tr>\n",
       "    <tr>\n",
       "      <th>34</th>\n",
       "      <td>898246435828</td>\n",
       "      <td>1796492871656</td>\n",
       "      <td>/cms/store/user/dlevans</td>\n",
       "      <td>dlevans</td>\n",
       "      <td>1.796493</td>\n",
       "    </tr>\n",
       "    <tr>\n",
       "      <th>35</th>\n",
       "      <td>833111850405</td>\n",
       "      <td>1666223700810</td>\n",
       "      <td>/cms/store/user/jschrott</td>\n",
       "      <td>jschrott</td>\n",
       "      <td>1.666224</td>\n",
       "    </tr>\n",
       "    <tr>\n",
       "      <th>36</th>\n",
       "      <td>827146919966</td>\n",
       "      <td>1654293839932</td>\n",
       "      <td>/cms/store/user/mderdzinski</td>\n",
       "      <td>mderdzinski</td>\n",
       "      <td>1.654294</td>\n",
       "    </tr>\n",
       "    <tr>\n",
       "      <th>38</th>\n",
       "      <td>816673905001</td>\n",
       "      <td>1633347810002</td>\n",
       "      <td>/cms/store/user/lshchuts</td>\n",
       "      <td>lshchuts</td>\n",
       "      <td>1.633348</td>\n",
       "    </tr>\n",
       "    <tr>\n",
       "      <th>39</th>\n",
       "      <td>743636269616</td>\n",
       "      <td>1487272539232</td>\n",
       "      <td>/cms/store/user/capalmer</td>\n",
       "      <td>capalmer</td>\n",
       "      <td>1.487273</td>\n",
       "    </tr>\n",
       "    <tr>\n",
       "      <th>41</th>\n",
       "      <td>662311103816</td>\n",
       "      <td>1324622207632</td>\n",
       "      <td>/cms/store/user/jgwood</td>\n",
       "      <td>jgwood</td>\n",
       "      <td>1.324622</td>\n",
       "    </tr>\n",
       "    <tr>\n",
       "      <th>44</th>\n",
       "      <td>523607374005</td>\n",
       "      <td>1047214748010</td>\n",
       "      <td>/cms/store/user/owen</td>\n",
       "      <td>owen</td>\n",
       "      <td>1.047215</td>\n",
       "    </tr>\n",
       "    <tr>\n",
       "      <th>45</th>\n",
       "      <td>518123563930</td>\n",
       "      <td>1036247127860</td>\n",
       "      <td>/cms/store/user/fkw</td>\n",
       "      <td>fkw</td>\n",
       "      <td>1.036247</td>\n",
       "    </tr>\n",
       "    <tr>\n",
       "      <th>47</th>\n",
       "      <td>488046580152</td>\n",
       "      <td>976093160304</td>\n",
       "      <td>/cms/store/user/lost+found</td>\n",
       "      <td>lost+found</td>\n",
       "      <td>0.976093</td>\n",
       "    </tr>\n",
       "  </tbody>\n",
       "</table>\n",
       "</div>"
      ],
      "text/plain": [
       "       before_rep       after_rep                         path         user  \\\n",
       "9   7374967263366  14749934526732      /cms/store/user/branson      branson   \n",
       "15  3140350104195   6280700208390     /cms/store/user/rbhandar     rbhandar   \n",
       "18  2790180723796   5580361447592      /cms/store/user/esmaeel      esmaeel   \n",
       "23  1611455550280   3222911100560     /cms/store/user/mmasciov     mmasciov   \n",
       "26  1281206759418   2562413518836     /cms/store/user/wverbeke     wverbeke   \n",
       "27  1232918044333   2465836088666     /cms/store/user/gpetrucc     gpetrucc   \n",
       "28  1161434791016   2322869582032       /cms/store/user/vdutta       vdutta   \n",
       "30  1089108574536   2178217149072       /cms/store/user/dmytro       dmytro   \n",
       "31   963279472359   1926558944718      /cms/store/user/dsklein      dsklein   \n",
       "32   950064861200   1900129722400     /cms/store/user/mderdzin     mderdzin   \n",
       "33   902727625962   1805455251924      /cms/store/user/mnorman      mnorman   \n",
       "34   898246435828   1796492871656      /cms/store/user/dlevans      dlevans   \n",
       "35   833111850405   1666223700810     /cms/store/user/jschrott     jschrott   \n",
       "36   827146919966   1654293839932  /cms/store/user/mderdzinski  mderdzinski   \n",
       "38   816673905001   1633347810002     /cms/store/user/lshchuts     lshchuts   \n",
       "39   743636269616   1487272539232     /cms/store/user/capalmer     capalmer   \n",
       "41   662311103816   1324622207632       /cms/store/user/jgwood       jgwood   \n",
       "44   523607374005   1047214748010         /cms/store/user/owen         owen   \n",
       "45   518123563930   1036247127860          /cms/store/user/fkw          fkw   \n",
       "47   488046580152    976093160304   /cms/store/user/lost+found   lost+found   \n",
       "\n",
       "    after_rep_TB  \n",
       "9      14.749935  \n",
       "15      6.280700  \n",
       "18      5.580361  \n",
       "23      3.222911  \n",
       "26      2.562414  \n",
       "27      2.465836  \n",
       "28      2.322870  \n",
       "30      2.178217  \n",
       "31      1.926559  \n",
       "32      1.900130  \n",
       "33      1.805455  \n",
       "34      1.796493  \n",
       "35      1.666224  \n",
       "36      1.654294  \n",
       "38      1.633348  \n",
       "39      1.487273  \n",
       "41      1.324622  \n",
       "44      1.047215  \n",
       "45      1.036247  \n",
       "47      0.976093  "
      ]
     },
     "execution_count": 128,
     "metadata": {},
     "output_type": "execute_result"
    }
   ],
   "source": [
    "top_dead"
   ]
  },
  {
   "cell_type": "code",
   "execution_count": 131,
   "metadata": {},
   "outputs": [
    {
     "data": {
      "text/plain": [
       "9     14.749935\n",
       "15     6.280700\n",
       "18     5.580361\n",
       "23     3.222911\n",
       "26     2.562414\n",
       "27     2.465836\n",
       "28     2.322870\n",
       "30     2.178217\n",
       "31     1.926559\n",
       "32     1.900130\n",
       "33     1.805455\n",
       "34     1.796493\n",
       "35     1.666224\n",
       "36     1.654294\n",
       "38     1.633348\n",
       "39     1.487273\n",
       "41     1.324622\n",
       "44     1.047215\n",
       "45     1.036247\n",
       "47     0.976093\n",
       "Name: after_rep, dtype: float64"
      ]
     },
     "execution_count": 131,
     "metadata": {},
     "output_type": "execute_result"
    }
   ],
   "source": [
    "hadoop_df[np.isin(hadoop_df.user, dead_users)][:20].after_rep/10**12"
   ]
  },
  {
   "cell_type": "code",
   "execution_count": 132,
   "metadata": {},
   "outputs": [
    {
     "data": {
      "text/plain": [
       "57.61719554636"
      ]
     },
     "execution_count": 132,
     "metadata": {},
     "output_type": "execute_result"
    }
   ],
   "source": [
    "np.sum(hadoop_df[np.isin(hadoop_df.user, dead_users)][:20].after_rep)/10**12"
   ]
  },
  {
   "cell_type": "code",
   "execution_count": 78,
   "metadata": {},
   "outputs": [
    {
     "data": {
      "text/html": [
       "<div>\n",
       "<style scoped>\n",
       "    .dataframe tbody tr th:only-of-type {\n",
       "        vertical-align: middle;\n",
       "    }\n",
       "\n",
       "    .dataframe tbody tr th {\n",
       "        vertical-align: top;\n",
       "    }\n",
       "\n",
       "    .dataframe thead th {\n",
       "        text-align: right;\n",
       "    }\n",
       "</style>\n",
       "<table border=\"1\" class=\"dataframe\">\n",
       "  <thead>\n",
       "    <tr style=\"text-align: right;\">\n",
       "      <th></th>\n",
       "      <th>before_rep</th>\n",
       "      <th>after_rep</th>\n",
       "      <th>path</th>\n",
       "      <th>user</th>\n",
       "    </tr>\n",
       "  </thead>\n",
       "  <tbody>\n",
       "    <tr>\n",
       "      <th>0</th>\n",
       "      <td>53012496443835</td>\n",
       "      <td>136110418040274</td>\n",
       "      <td>/cms/store/user/usarica</td>\n",
       "      <td>usarica</td>\n",
       "    </tr>\n",
       "    <tr>\n",
       "      <th>1</th>\n",
       "      <td>36096094481187</td>\n",
       "      <td>63020649214006</td>\n",
       "      <td>/cms/store/user/mcitron</td>\n",
       "      <td>mcitron</td>\n",
       "    </tr>\n",
       "    <tr>\n",
       "      <th>2</th>\n",
       "      <td>16607387195971</td>\n",
       "      <td>36135016752016</td>\n",
       "      <td>/cms/store/user/namin</td>\n",
       "      <td>namin</td>\n",
       "    </tr>\n",
       "    <tr>\n",
       "      <th>3</th>\n",
       "      <td>12215829377653</td>\n",
       "      <td>25410713272419</td>\n",
       "      <td>/cms/store/user/phchang</td>\n",
       "      <td>phchang</td>\n",
       "    </tr>\n",
       "    <tr>\n",
       "      <th>4</th>\n",
       "      <td>7408816717734</td>\n",
       "      <td>21932617643053</td>\n",
       "      <td>/cms/store/user/sicheng</td>\n",
       "      <td>sicheng</td>\n",
       "    </tr>\n",
       "    <tr>\n",
       "      <th>...</th>\n",
       "      <td>...</td>\n",
       "      <td>...</td>\n",
       "      <td>...</td>\n",
       "      <td>...</td>\n",
       "    </tr>\n",
       "    <tr>\n",
       "      <th>177</th>\n",
       "      <td>0</td>\n",
       "      <td>0</td>\n",
       "      <td>/cms/store/user/hatake</td>\n",
       "      <td>hatake</td>\n",
       "    </tr>\n",
       "    <tr>\n",
       "      <th>178</th>\n",
       "      <td>0</td>\n",
       "      <td>0</td>\n",
       "      <td>/cms/store/user/gutsche</td>\n",
       "      <td>gutsche</td>\n",
       "    </tr>\n",
       "    <tr>\n",
       "      <th>179</th>\n",
       "      <td>0</td>\n",
       "      <td>0</td>\n",
       "      <td>/cms/store/user/georgia</td>\n",
       "      <td>georgia</td>\n",
       "    </tr>\n",
       "    <tr>\n",
       "      <th>180</th>\n",
       "      <td>0</td>\n",
       "      <td>0</td>\n",
       "      <td>/cms/store/user/gdyckes</td>\n",
       "      <td>gdyckes</td>\n",
       "    </tr>\n",
       "    <tr>\n",
       "      <th>181</th>\n",
       "      <td>0</td>\n",
       "      <td>0</td>\n",
       "      <td>/cms/store/user/zmei</td>\n",
       "      <td>zmei</td>\n",
       "    </tr>\n",
       "  </tbody>\n",
       "</table>\n",
       "<p>182 rows × 4 columns</p>\n",
       "</div>"
      ],
      "text/plain": [
       "         before_rep        after_rep                     path     user\n",
       "0    53012496443835  136110418040274  /cms/store/user/usarica  usarica\n",
       "1    36096094481187   63020649214006  /cms/store/user/mcitron  mcitron\n",
       "2    16607387195971   36135016752016    /cms/store/user/namin    namin\n",
       "3    12215829377653   25410713272419  /cms/store/user/phchang  phchang\n",
       "4     7408816717734   21932617643053  /cms/store/user/sicheng  sicheng\n",
       "..              ...              ...                      ...      ...\n",
       "177               0                0   /cms/store/user/hatake   hatake\n",
       "178               0                0  /cms/store/user/gutsche  gutsche\n",
       "179               0                0  /cms/store/user/georgia  georgia\n",
       "180               0                0  /cms/store/user/gdyckes  gdyckes\n",
       "181               0                0     /cms/store/user/zmei     zmei\n",
       "\n",
       "[182 rows x 4 columns]"
      ]
     },
     "execution_count": 78,
     "metadata": {},
     "output_type": "execute_result"
    }
   ],
   "source": [
    "hadoop_df"
   ]
  },
  {
   "cell_type": "code",
   "execution_count": 52,
   "metadata": {},
   "outputs": [],
   "source": [
    "def plot_lorenz_curve(hadoop_df, N_points=500, no_plot=False):\n",
    "    \"\"\"Fraction of wealth held by actors with wealth < w vs. fraction of actors that\n",
    "       hold wealth < w, where w is some percentage of the total wealth\n",
    "    \"\"\"\n",
    "    # Compute diagnostic information about population\n",
    "    total_wealth = np.sum(hadoop_df.after_rep)\n",
    "    sorted_bank = hadoop_df.sort_values(\"after_rep\", ascending=False).after_rep.values\n",
    "    N_actors = len(hadoop_df.user)\n",
    "    # Compute values for Lorenz curve\n",
    "    cumulative_wealth = []\n",
    "    cumulative_actors = []\n",
    "    for p in np.linspace(0, 1, N_points):\n",
    "        actors_with_lt_w = sorted_bank < total_wealth*p\n",
    "        # Fraction of wealth held by actors with wealth < w\n",
    "        cumulative_wealth.append(\n",
    "            np.sum(sorted_bank[actors_with_lt_w])/total_wealth\n",
    "        )\n",
    "        # Fraction of actors that hold wealth < w\n",
    "        cumulative_actors.append(np.sum(actors_with_lt_w)/N_actors)\n",
    "    # Cast to numpy arrays\n",
    "    cumulative_wealth = np.array(cumulative_wealth)\n",
    "    cumulative_actors = np.array(cumulative_actors)     \n",
    "    # Calculate Gini coefficient\n",
    "    gini = (np.trapz(cumulative_actors, cumulative_wealth)-0.5)/0.5\n",
    "    if no_plot:\n",
    "        return gini\n",
    "    else:\n",
    "        # Set up plot\n",
    "        fig = plt.figure(figsize=(10,10))\n",
    "        axes = plt.subplot(111)\n",
    "        axes.set_aspect(1.0)\n",
    "        # Fill plot\n",
    "        plt.scatter(cumulative_actors, cumulative_wealth, s=10);\n",
    "        plt.xlabel(\"Cumulative Population\", size=16);\n",
    "        plt.ylabel(\"Cumulative Wealth\", size=16);\n",
    "        plt.title(\"Lorenz Curve (Gini = {:.3f})\".format(gini), size=16);\n",
    "        return"
   ]
  },
  {
   "cell_type": "code",
   "execution_count": 89,
   "metadata": {},
   "outputs": [
    {
     "data": {
      "image/png": "[encoded data removed]",
      "text/plain": [
       "<Figure size 720x720 with 1 Axes>"
      ]
     },
     "metadata": {
      "needs_background": "light"
     },
     "output_type": "display_data"
    }
   ],
   "source": [
    "plot_lorenz_curve(hadoop_df[~np.isin(hadoop_df.user, dead_users)], N_points=10000)"
   ]
  },
  {
   "cell_type": "code",
   "execution_count": null,
   "metadata": {},
   "outputs": [],
   "source": []
  }
 ],
 "metadata": {
  "kernelspec": {
   "display_name": "data-access",
   "language": "python",
   "name": "data-access"
  },
  "language_info": {
   "codemirror_mode": {
    "name": "ipython",
    "version": 3
   },
   "file_extension": ".py",
   "mimetype": "text/x-python",
   "name": "python",
   "nbconvert_exporter": "python",
   "pygments_lexer": "ipython3",
   "version": "3.7.3"
  }
 },
 "nbformat": 4,
 "nbformat_minor": 4
}
